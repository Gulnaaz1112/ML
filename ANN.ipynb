{
  "nbformat": 4,
  "nbformat_minor": 0,
  "metadata": {
    "colab": {
      "provenance": []
    },
    "kernelspec": {
      "name": "python3",
      "display_name": "Python 3"
    },
    "language_info": {
      "name": "python"
    }
  },
  "cells": [
    {
      "cell_type": "markdown",
      "metadata": {
        "id": "WZf76Mgx-dyH"
      },
      "source": [
        "Aim : Write a prgm to build Artificial Neural Network and test the same using data sets."
      ]
    },
    {
      "cell_type": "code",
      "metadata": {
        "id": "8OqbzOh-aajR"
      },
      "source": [
        "import numpy as np\n",
        "import pandas as pd\n",
        "from sklearn.model_selection import train_test_split\n",
        "import matplotlib.pyplot as plt\n",
        "from keras.models import Sequential\n",
        "from keras.layers import Dense"
      ],
      "execution_count": null,
      "outputs": []
    },
    {
      "cell_type": "code",
      "metadata": {
        "colab": {
          "base_uri": "https://localhost:8080/",
          "height": 225
        },
        "id": "vjmfqPVLd47z",
        "outputId": "537cb560-40e6-4847-a9c9-dc4c0379bb71"
      },
      "source": [
        "data=pd.read_csv(\"diabetes.csv\")\n",
        "data.head()"
      ],
      "execution_count": null,
      "outputs": [
        {
          "output_type": "execute_result",
          "data": {
            "text/html": [
              "<div>\n",
              "<style scoped>\n",
              "    .dataframe tbody tr th:only-of-type {\n",
              "        vertical-align: middle;\n",
              "    }\n",
              "\n",
              "    .dataframe tbody tr th {\n",
              "        vertical-align: top;\n",
              "    }\n",
              "\n",
              "    .dataframe thead th {\n",
              "        text-align: right;\n",
              "    }\n",
              "</style>\n",
              "<table border=\"1\" class=\"dataframe\">\n",
              "  <thead>\n",
              "    <tr style=\"text-align: right;\">\n",
              "      <th></th>\n",
              "      <th>Pregnancies</th>\n",
              "      <th>Glucose</th>\n",
              "      <th>BloodPressure</th>\n",
              "      <th>SkinThickness</th>\n",
              "      <th>Insulin</th>\n",
              "      <th>BMI</th>\n",
              "      <th>DiabetesPedigreeFunction</th>\n",
              "      <th>Age</th>\n",
              "      <th>Outcome</th>\n",
              "    </tr>\n",
              "  </thead>\n",
              "  <tbody>\n",
              "    <tr>\n",
              "      <th>0</th>\n",
              "      <td>6</td>\n",
              "      <td>148</td>\n",
              "      <td>72</td>\n",
              "      <td>35</td>\n",
              "      <td>0</td>\n",
              "      <td>33.6</td>\n",
              "      <td>0.627</td>\n",
              "      <td>50</td>\n",
              "      <td>1</td>\n",
              "    </tr>\n",
              "    <tr>\n",
              "      <th>1</th>\n",
              "      <td>1</td>\n",
              "      <td>85</td>\n",
              "      <td>66</td>\n",
              "      <td>29</td>\n",
              "      <td>0</td>\n",
              "      <td>26.6</td>\n",
              "      <td>0.351</td>\n",
              "      <td>31</td>\n",
              "      <td>0</td>\n",
              "    </tr>\n",
              "    <tr>\n",
              "      <th>2</th>\n",
              "      <td>8</td>\n",
              "      <td>183</td>\n",
              "      <td>64</td>\n",
              "      <td>0</td>\n",
              "      <td>0</td>\n",
              "      <td>23.3</td>\n",
              "      <td>0.672</td>\n",
              "      <td>32</td>\n",
              "      <td>1</td>\n",
              "    </tr>\n",
              "    <tr>\n",
              "      <th>3</th>\n",
              "      <td>1</td>\n",
              "      <td>89</td>\n",
              "      <td>66</td>\n",
              "      <td>23</td>\n",
              "      <td>94</td>\n",
              "      <td>28.1</td>\n",
              "      <td>0.167</td>\n",
              "      <td>21</td>\n",
              "      <td>0</td>\n",
              "    </tr>\n",
              "    <tr>\n",
              "      <th>4</th>\n",
              "      <td>0</td>\n",
              "      <td>137</td>\n",
              "      <td>40</td>\n",
              "      <td>35</td>\n",
              "      <td>168</td>\n",
              "      <td>43.1</td>\n",
              "      <td>2.288</td>\n",
              "      <td>33</td>\n",
              "      <td>1</td>\n",
              "    </tr>\n",
              "  </tbody>\n",
              "</table>\n",
              "</div>"
            ],
            "text/plain": [
              "   Pregnancies  Glucose  BloodPressure  ...  DiabetesPedigreeFunction  Age  Outcome\n",
              "0            6      148             72  ...                     0.627   50        1\n",
              "1            1       85             66  ...                     0.351   31        0\n",
              "2            8      183             64  ...                     0.672   32        1\n",
              "3            1       89             66  ...                     0.167   21        0\n",
              "4            0      137             40  ...                     2.288   33        1\n",
              "\n",
              "[5 rows x 9 columns]"
            ]
          },
          "metadata": {},
          "execution_count": 2
        }
      ]
    },
    {
      "cell_type": "code",
      "metadata": {
        "colab": {
          "base_uri": "https://localhost:8080/"
        },
        "id": "A2tzgGT_eeVh",
        "outputId": "8bd3f83c-7f92-43c6-8de0-f84e3582cd94"
      },
      "source": [
        "data.info()"
      ],
      "execution_count": null,
      "outputs": [
        {
          "output_type": "stream",
          "name": "stdout",
          "text": [
            "<class 'pandas.core.frame.DataFrame'>\n",
            "RangeIndex: 768 entries, 0 to 767\n",
            "Data columns (total 9 columns):\n",
            " #   Column                    Non-Null Count  Dtype  \n",
            "---  ------                    --------------  -----  \n",
            " 0   Pregnancies               768 non-null    int64  \n",
            " 1   Glucose                   768 non-null    int64  \n",
            " 2   BloodPressure             768 non-null    int64  \n",
            " 3   SkinThickness             768 non-null    int64  \n",
            " 4   Insulin                   768 non-null    int64  \n",
            " 5   BMI                       768 non-null    float64\n",
            " 6   DiabetesPedigreeFunction  768 non-null    float64\n",
            " 7   Age                       768 non-null    int64  \n",
            " 8   Outcome                   768 non-null    int64  \n",
            "dtypes: float64(2), int64(7)\n",
            "memory usage: 54.1 KB\n"
          ]
        }
      ]
    },
    {
      "cell_type": "markdown",
      "metadata": {
        "id": "BZU73saYemOF"
      },
      "source": [
        "the objective is to predict whether the patient is diabetic or not"
      ]
    },
    {
      "cell_type": "code",
      "metadata": {
        "colab": {
          "base_uri": "https://localhost:8080/",
          "height": 265
        },
        "id": "SvXOoQQGerjh",
        "outputId": "ba77d646-e6bd-4f07-98b9-5c518e0b850e"
      },
      "source": [
        "import seaborn as sns\n",
        "data['Outcome'].value_counts().plot(kind='bar')"
      ],
      "execution_count": null,
      "outputs": [
        {
          "output_type": "execute_result",
          "data": {
            "text/plain": [
              "<matplotlib.axes._subplots.AxesSubplot at 0x7f14f2efb750>"
            ]
          },
          "metadata": {},
          "execution_count": 4
        },
        {
          "output_type": "display_data",
          "data": {
            "image/png": "[encoded data removed]",
            "text/plain": [
              "<Figure size 432x288 with 1 Axes>"
            ]
          },
          "metadata": {
            "needs_background": "light"
          }
        }
      ]
    },
    {
      "cell_type": "code",
      "metadata": {
        "id": "HRXKBfCYfU1H"
      },
      "source": [
        "x=data.iloc[:,0:8]\n",
        "y=data.iloc[:,8]"
      ],
      "execution_count": null,
      "outputs": []
    },
    {
      "cell_type": "code",
      "metadata": {
        "colab": {
          "base_uri": "https://localhost:8080/"
        },
        "id": "gdqnQaWRerq5",
        "outputId": "d3e971eb-edc0-488e-cdcb-6fab9f0fb3ec"
      },
      "source": [
        "x_train, x_test, y_train, y_test= train_test_split(x, y, test_size= 0.25, random_state=0)\n",
        "print(x_train)\n",
        "print(x_test)\n",
        "print(y_train)\n",
        "print(y_test)"
      ],
      "execution_count": null,
      "outputs": [
        {
          "output_type": "stream",
          "name": "stdout",
          "text": [
            "     Pregnancies  Glucose  BloodPressure  ...   BMI  DiabetesPedigreeFunction  Age\n",
            "762            9       89             62  ...  22.5                     0.142   33\n",
            "127            1      118             58  ...  33.3                     0.261   23\n",
            "564            0       91             80  ...  32.4                     0.601   27\n",
            "375           12      140             82  ...  39.2                     0.528   58\n",
            "663            9      145             80  ...  37.9                     0.637   40\n",
            "..           ...      ...            ...  ...   ...                       ...  ...\n",
            "763           10      101             76  ...  32.9                     0.171   63\n",
            "192            7      159             66  ...  30.4                     0.383   36\n",
            "629            4       94             65  ...  24.7                     0.148   21\n",
            "559           11       85             74  ...  30.1                     0.300   35\n",
            "684            5      136             82  ...   0.0                     0.640   69\n",
            "\n",
            "[576 rows x 8 columns]\n",
            "     Pregnancies  Glucose  BloodPressure  ...   BMI  DiabetesPedigreeFunction  Age\n",
            "661            1      199             76  ...  42.9                     1.394   22\n",
            "122            2      107             74  ...  33.6                     0.404   23\n",
            "113            4       76             62  ...  34.0                     0.391   25\n",
            "14             5      166             72  ...  25.8                     0.587   51\n",
            "529            0      111             65  ...  24.6                     0.660   31\n",
            "..           ...      ...            ...  ...   ...                       ...  ...\n",
            "366            6      124             72  ...  27.6                     0.368   29\n",
            "301            2      144             58  ...  31.6                     0.422   25\n",
            "382            1      109             60  ...  25.4                     0.947   21\n",
            "140            3      128             78  ...  21.1                     0.268   55\n",
            "463            5       88             78  ...  27.6                     0.258   37\n",
            "\n",
            "[192 rows x 8 columns]\n",
            "762    0\n",
            "127    0\n",
            "564    0\n",
            "375    1\n",
            "663    1\n",
            "      ..\n",
            "763    0\n",
            "192    1\n",
            "629    0\n",
            "559    0\n",
            "684    0\n",
            "Name: Outcome, Length: 576, dtype: int64\n",
            "661    1\n",
            "122    0\n",
            "113    0\n",
            "14     1\n",
            "529    0\n",
            "      ..\n",
            "366    1\n",
            "301    1\n",
            "382    0\n",
            "140    0\n",
            "463    0\n",
            "Name: Outcome, Length: 192, dtype: int64\n"
          ]
        }
      ]
    },
    {
      "cell_type": "code",
      "metadata": {
        "colab": {
          "base_uri": "https://localhost:8080/"
        },
        "id": "DvcqZfuegbq6",
        "outputId": "e0470fee-36f9-4641-b023-fa41ca354333"
      },
      "source": [
        "print(x_train.shape,y_train.shape)\n",
        "print(x_test.shape,y_test.shape)"
      ],
      "execution_count": null,
      "outputs": [
        {
          "output_type": "stream",
          "name": "stdout",
          "text": [
            "(576, 8) (576,)\n",
            "(192, 8) (192,)\n"
          ]
        }
      ]
    },
    {
      "cell_type": "code",
      "metadata": {
        "id": "ODb7lLHXnPzY"
      },
      "source": [
        "    #defining my model\n",
        "    mymodel = Sequential()\n",
        "    mymodel.add(Dense(12, input_dim=8, activation='relu'))\n",
        "    mymodel.add(Dense(1, activation='sigmoid'))\n",
        "\n",
        "    # Compile the model\n",
        "    mymodel.compile(loss='binary_crossentropy', optimizer='adam', metrics=['accuracy'])"
      ],
      "execution_count": null,
      "outputs": []
    },
    {
      "cell_type": "code",
      "metadata": {
        "colab": {
          "base_uri": "https://localhost:8080/"
        },
        "id": "vDKrSZnkrtEQ",
        "outputId": "4d84355c-59f2-46c2-de1d-4cd168eb2497"
      },
      "source": [
        "mymodel.fit(x_train,y_train,epochs=150,batch_size=10)"
      ],
      "execution_count": null,
      "outputs": [
        {
          "output_type": "stream",
          "name": "stdout",
          "text": [
            "Epoch 1/150\n",
            "58/58 [==============================] - 1s 1ms/step - loss: 6.5827 - accuracy: 0.4688\n",
            "Epoch 2/150\n",
            "58/58 [==============================] - 0s 1ms/step - loss: 4.3950 - accuracy: 0.4861\n",
            "Epoch 3/150\n",
            "58/58 [==============================] - 0s 1ms/step - loss: 3.0660 - accuracy: 0.5139\n",
            "Epoch 4/150\n",
            "58/58 [==============================] - 0s 1ms/step - loss: 2.2743 - accuracy: 0.5538\n",
            "Epoch 5/150\n",
            "58/58 [==============================] - 0s 1ms/step - loss: 1.7624 - accuracy: 0.6059\n",
            "Epoch 6/150\n",
            "58/58 [==============================] - 0s 1ms/step - loss: 1.5648 - accuracy: 0.6198\n",
            "Epoch 7/150\n",
            "58/58 [==============================] - 0s 1ms/step - loss: 1.4448 - accuracy: 0.6215\n",
            "Epoch 8/150\n",
            "58/58 [==============================] - 0s 1ms/step - loss: 1.3068 - accuracy: 0.6424\n",
            "Epoch 9/150\n",
            "58/58 [==============================] - 0s 1ms/step - loss: 1.2082 - accuracy: 0.6493\n",
            "Epoch 10/150\n",
            "58/58 [==============================] - 0s 1ms/step - loss: 1.1515 - accuracy: 0.6354\n",
            "Epoch 11/150\n",
            "58/58 [==============================] - 0s 1ms/step - loss: 1.0767 - accuracy: 0.6667\n",
            "Epoch 12/150\n",
            "58/58 [==============================] - 0s 1ms/step - loss: 1.1051 - accuracy: 0.6528\n",
            "Epoch 13/150\n",
            "58/58 [==============================] - 0s 1ms/step - loss: 1.0308 - accuracy: 0.6615\n",
            "Epoch 14/150\n",
            "58/58 [==============================] - 0s 1ms/step - loss: 0.9863 - accuracy: 0.6806\n",
            "Epoch 15/150\n",
            "58/58 [==============================] - 0s 1ms/step - loss: 0.9991 - accuracy: 0.6719\n",
            "Epoch 16/150\n",
            "58/58 [==============================] - 0s 1ms/step - loss: 0.9883 - accuracy: 0.6406\n",
            "Epoch 17/150\n",
            "58/58 [==============================] - 0s 1ms/step - loss: 0.9941 - accuracy: 0.6562\n",
            "Epoch 18/150\n",
            "58/58 [==============================] - 0s 1ms/step - loss: 0.9600 - accuracy: 0.6441\n",
            "Epoch 19/150\n",
            "58/58 [==============================] - 0s 1ms/step - loss: 0.8927 - accuracy: 0.6510\n",
            "Epoch 20/150\n",
            "58/58 [==============================] - 0s 1ms/step - loss: 0.8773 - accuracy: 0.6510\n",
            "Epoch 21/150\n",
            "58/58 [==============================] - 0s 1ms/step - loss: 0.8434 - accuracy: 0.6580\n",
            "Epoch 22/150\n",
            "58/58 [==============================] - 0s 1ms/step - loss: 0.8488 - accuracy: 0.6649\n",
            "Epoch 23/150\n",
            "58/58 [==============================] - 0s 1ms/step - loss: 0.7750 - accuracy: 0.6771\n",
            "Epoch 24/150\n",
            "58/58 [==============================] - 0s 1ms/step - loss: 0.7339 - accuracy: 0.6840\n",
            "Epoch 25/150\n",
            "58/58 [==============================] - 0s 1ms/step - loss: 0.7546 - accuracy: 0.6667\n",
            "Epoch 26/150\n",
            "58/58 [==============================] - 0s 1ms/step - loss: 0.7107 - accuracy: 0.6806\n",
            "Epoch 27/150\n",
            "58/58 [==============================] - 0s 1ms/step - loss: 0.6657 - accuracy: 0.7014\n",
            "Epoch 28/150\n",
            "58/58 [==============================] - 0s 1ms/step - loss: 0.6843 - accuracy: 0.7014\n",
            "Epoch 29/150\n",
            "58/58 [==============================] - 0s 1ms/step - loss: 0.6722 - accuracy: 0.6823\n",
            "Epoch 30/150\n",
            "58/58 [==============================] - 0s 1ms/step - loss: 0.6976 - accuracy: 0.6684\n",
            "Epoch 31/150\n",
            "58/58 [==============================] - 0s 1ms/step - loss: 0.6960 - accuracy: 0.6701\n",
            "Epoch 32/150\n",
            "58/58 [==============================] - 0s 1ms/step - loss: 0.6445 - accuracy: 0.6892\n",
            "Epoch 33/150\n",
            "58/58 [==============================] - 0s 1ms/step - loss: 0.5995 - accuracy: 0.7188\n",
            "Epoch 34/150\n",
            "58/58 [==============================] - 0s 1ms/step - loss: 0.6442 - accuracy: 0.6979\n",
            "Epoch 35/150\n",
            "58/58 [==============================] - 0s 1ms/step - loss: 0.6910 - accuracy: 0.6927\n",
            "Epoch 36/150\n",
            "58/58 [==============================] - 0s 1ms/step - loss: 0.6383 - accuracy: 0.6823\n",
            "Epoch 37/150\n",
            "58/58 [==============================] - 0s 1ms/step - loss: 0.7059 - accuracy: 0.6823\n",
            "Epoch 38/150\n",
            "58/58 [==============================] - 0s 1ms/step - loss: 0.6629 - accuracy: 0.6736\n",
            "Epoch 39/150\n",
            "58/58 [==============================] - 0s 1ms/step - loss: 0.6576 - accuracy: 0.6962\n",
            "Epoch 40/150\n",
            "58/58 [==============================] - 0s 1ms/step - loss: 0.6142 - accuracy: 0.7222\n",
            "Epoch 41/150\n",
            "58/58 [==============================] - 0s 1ms/step - loss: 0.6370 - accuracy: 0.7014\n",
            "Epoch 42/150\n",
            "58/58 [==============================] - 0s 1ms/step - loss: 0.6098 - accuracy: 0.7240\n",
            "Epoch 43/150\n",
            "58/58 [==============================] - 0s 1ms/step - loss: 0.7414 - accuracy: 0.6736\n",
            "Epoch 44/150\n",
            "58/58 [==============================] - 0s 1ms/step - loss: 0.6631 - accuracy: 0.6997\n",
            "Epoch 45/150\n",
            "58/58 [==============================] - 0s 1ms/step - loss: 0.6132 - accuracy: 0.6997\n",
            "Epoch 46/150\n",
            "58/58 [==============================] - 0s 1ms/step - loss: 0.6744 - accuracy: 0.6892\n",
            "Epoch 47/150\n",
            "58/58 [==============================] - 0s 1ms/step - loss: 0.6506 - accuracy: 0.6858\n",
            "Epoch 48/150\n",
            "58/58 [==============================] - 0s 1ms/step - loss: 0.6037 - accuracy: 0.7118\n",
            "Epoch 49/150\n",
            "58/58 [==============================] - 0s 1ms/step - loss: 0.5836 - accuracy: 0.7274\n",
            "Epoch 50/150\n",
            "58/58 [==============================] - 0s 1ms/step - loss: 0.6297 - accuracy: 0.7188\n",
            "Epoch 51/150\n",
            "58/58 [==============================] - 0s 1ms/step - loss: 0.6000 - accuracy: 0.7014\n",
            "Epoch 52/150\n",
            "58/58 [==============================] - 0s 1ms/step - loss: 0.6068 - accuracy: 0.7031\n",
            "Epoch 53/150\n",
            "58/58 [==============================] - 0s 1ms/step - loss: 0.5905 - accuracy: 0.7188\n",
            "Epoch 54/150\n",
            "58/58 [==============================] - 0s 1ms/step - loss: 0.5919 - accuracy: 0.7170\n",
            "Epoch 55/150\n",
            "58/58 [==============================] - 0s 1ms/step - loss: 0.6085 - accuracy: 0.7014\n",
            "Epoch 56/150\n",
            "58/58 [==============================] - 0s 1ms/step - loss: 0.5861 - accuracy: 0.7066\n",
            "Epoch 57/150\n",
            "58/58 [==============================] - 0s 1ms/step - loss: 0.5940 - accuracy: 0.7101\n",
            "Epoch 58/150\n",
            "58/58 [==============================] - 0s 1ms/step - loss: 0.6091 - accuracy: 0.7170\n",
            "Epoch 59/150\n",
            "58/58 [==============================] - 0s 1ms/step - loss: 0.6522 - accuracy: 0.6892\n",
            "Epoch 60/150\n",
            "58/58 [==============================] - 0s 1ms/step - loss: 0.5593 - accuracy: 0.7257\n",
            "Epoch 61/150\n",
            "58/58 [==============================] - 0s 1ms/step - loss: 0.6139 - accuracy: 0.6944\n",
            "Epoch 62/150\n",
            "58/58 [==============================] - 0s 1ms/step - loss: 0.6306 - accuracy: 0.6927\n",
            "Epoch 63/150\n",
            "58/58 [==============================] - 0s 1ms/step - loss: 0.7425 - accuracy: 0.6753\n",
            "Epoch 64/150\n",
            "58/58 [==============================] - 0s 1ms/step - loss: 0.6211 - accuracy: 0.7101\n",
            "Epoch 65/150\n",
            "58/58 [==============================] - 0s 1ms/step - loss: 0.7085 - accuracy: 0.6875\n",
            "Epoch 66/150\n",
            "58/58 [==============================] - 0s 1ms/step - loss: 0.5877 - accuracy: 0.7292\n",
            "Epoch 67/150\n",
            "58/58 [==============================] - 0s 1ms/step - loss: 0.5804 - accuracy: 0.7378\n",
            "Epoch 68/150\n",
            "58/58 [==============================] - 0s 1ms/step - loss: 0.5828 - accuracy: 0.7292\n",
            "Epoch 69/150\n",
            "58/58 [==============================] - 0s 1ms/step - loss: 0.5590 - accuracy: 0.7257\n",
            "Epoch 70/150\n",
            "58/58 [==============================] - 0s 1ms/step - loss: 0.5756 - accuracy: 0.7170\n",
            "Epoch 71/150\n",
            "58/58 [==============================] - 0s 1ms/step - loss: 0.6023 - accuracy: 0.7170\n",
            "Epoch 72/150\n",
            "58/58 [==============================] - 0s 1ms/step - loss: 0.5643 - accuracy: 0.7257\n",
            "Epoch 73/150\n",
            "58/58 [==============================] - 0s 1ms/step - loss: 0.5903 - accuracy: 0.7257\n",
            "Epoch 74/150\n",
            "58/58 [==============================] - 0s 1ms/step - loss: 0.5858 - accuracy: 0.7066\n",
            "Epoch 75/150\n",
            "58/58 [==============================] - 0s 1ms/step - loss: 0.6117 - accuracy: 0.7101\n",
            "Epoch 76/150\n",
            "58/58 [==============================] - 0s 1ms/step - loss: 0.5702 - accuracy: 0.7292\n",
            "Epoch 77/150\n",
            "58/58 [==============================] - 0s 1ms/step - loss: 0.5715 - accuracy: 0.7361\n",
            "Epoch 78/150\n",
            "58/58 [==============================] - 0s 1ms/step - loss: 0.6219 - accuracy: 0.7274\n",
            "Epoch 79/150\n",
            "58/58 [==============================] - 0s 1ms/step - loss: 0.6276 - accuracy: 0.7118\n",
            "Epoch 80/150\n",
            "58/58 [==============================] - 0s 1ms/step - loss: 0.5722 - accuracy: 0.7205\n",
            "Epoch 81/150\n",
            "58/58 [==============================] - 0s 1ms/step - loss: 0.5770 - accuracy: 0.7326\n",
            "Epoch 82/150\n",
            "58/58 [==============================] - 0s 1ms/step - loss: 0.6956 - accuracy: 0.6997\n",
            "Epoch 83/150\n",
            "58/58 [==============================] - 0s 1ms/step - loss: 0.5700 - accuracy: 0.7292\n",
            "Epoch 84/150\n",
            "58/58 [==============================] - 0s 1ms/step - loss: 0.5812 - accuracy: 0.7361\n",
            "Epoch 85/150\n",
            "58/58 [==============================] - 0s 1ms/step - loss: 0.5477 - accuracy: 0.7344\n",
            "Epoch 86/150\n",
            "58/58 [==============================] - 0s 1ms/step - loss: 0.5660 - accuracy: 0.7101\n",
            "Epoch 87/150\n",
            "58/58 [==============================] - 0s 1ms/step - loss: 0.6920 - accuracy: 0.6788\n",
            "Epoch 88/150\n",
            "58/58 [==============================] - 0s 1ms/step - loss: 0.5408 - accuracy: 0.7500\n",
            "Epoch 89/150\n",
            "58/58 [==============================] - 0s 1ms/step - loss: 0.5579 - accuracy: 0.7292\n",
            "Epoch 90/150\n",
            "58/58 [==============================] - 0s 1ms/step - loss: 0.5672 - accuracy: 0.7431\n",
            "Epoch 91/150\n",
            "58/58 [==============================] - 0s 1ms/step - loss: 0.5478 - accuracy: 0.7361\n",
            "Epoch 92/150\n",
            "58/58 [==============================] - 0s 1ms/step - loss: 0.6205 - accuracy: 0.7101\n",
            "Epoch 93/150\n",
            "58/58 [==============================] - 0s 1ms/step - loss: 0.5768 - accuracy: 0.7222\n",
            "Epoch 94/150\n",
            "58/58 [==============================] - 0s 1ms/step - loss: 0.5480 - accuracy: 0.7257\n",
            "Epoch 95/150\n",
            "58/58 [==============================] - 0s 1ms/step - loss: 0.5591 - accuracy: 0.7257\n",
            "Epoch 96/150\n",
            "58/58 [==============================] - 0s 1ms/step - loss: 0.5721 - accuracy: 0.7240\n",
            "Epoch 97/150\n",
            "58/58 [==============================] - 0s 1ms/step - loss: 0.6289 - accuracy: 0.7049\n",
            "Epoch 98/150\n",
            "58/58 [==============================] - 0s 1ms/step - loss: 0.6091 - accuracy: 0.7014\n",
            "Epoch 99/150\n",
            "58/58 [==============================] - 0s 1ms/step - loss: 0.5562 - accuracy: 0.7292\n",
            "Epoch 100/150\n",
            "58/58 [==============================] - 0s 1ms/step - loss: 0.6083 - accuracy: 0.7083\n",
            "Epoch 101/150\n",
            "58/58 [==============================] - 0s 1ms/step - loss: 0.5841 - accuracy: 0.7326\n",
            "Epoch 102/150\n",
            "58/58 [==============================] - 0s 1ms/step - loss: 0.5633 - accuracy: 0.7274\n",
            "Epoch 103/150\n",
            "58/58 [==============================] - 0s 1ms/step - loss: 0.5318 - accuracy: 0.7326\n",
            "Epoch 104/150\n",
            "58/58 [==============================] - 0s 1ms/step - loss: 0.5979 - accuracy: 0.7378\n",
            "Epoch 105/150\n",
            "58/58 [==============================] - 0s 1ms/step - loss: 0.5434 - accuracy: 0.7344\n",
            "Epoch 106/150\n",
            "58/58 [==============================] - 0s 1ms/step - loss: 0.5643 - accuracy: 0.7292\n",
            "Epoch 107/150\n",
            "58/58 [==============================] - 0s 1ms/step - loss: 0.6277 - accuracy: 0.6892\n",
            "Epoch 108/150\n",
            "58/58 [==============================] - 0s 1ms/step - loss: 0.6224 - accuracy: 0.7031\n",
            "Epoch 109/150\n",
            "58/58 [==============================] - 0s 1ms/step - loss: 0.6023 - accuracy: 0.7309\n",
            "Epoch 110/150\n",
            "58/58 [==============================] - 0s 1ms/step - loss: 0.5866 - accuracy: 0.7344\n",
            "Epoch 111/150\n",
            "58/58 [==============================] - 0s 1ms/step - loss: 0.5669 - accuracy: 0.7292\n",
            "Epoch 112/150\n",
            "58/58 [==============================] - 0s 1ms/step - loss: 0.5783 - accuracy: 0.7292\n",
            "Epoch 113/150\n",
            "58/58 [==============================] - 0s 1ms/step - loss: 0.5570 - accuracy: 0.7257\n",
            "Epoch 114/150\n",
            "58/58 [==============================] - 0s 1ms/step - loss: 0.5513 - accuracy: 0.7205\n",
            "Epoch 115/150\n",
            "58/58 [==============================] - 0s 1ms/step - loss: 0.5802 - accuracy: 0.7396\n",
            "Epoch 116/150\n",
            "58/58 [==============================] - 0s 1ms/step - loss: 0.5256 - accuracy: 0.7448\n",
            "Epoch 117/150\n",
            "58/58 [==============================] - 0s 1ms/step - loss: 0.5376 - accuracy: 0.7465\n",
            "Epoch 118/150\n",
            "58/58 [==============================] - 0s 1ms/step - loss: 0.5851 - accuracy: 0.7083\n",
            "Epoch 119/150\n",
            "58/58 [==============================] - 0s 1ms/step - loss: 0.5380 - accuracy: 0.7413\n",
            "Epoch 120/150\n",
            "58/58 [==============================] - 0s 1ms/step - loss: 0.5561 - accuracy: 0.7344\n",
            "Epoch 121/150\n",
            "58/58 [==============================] - 0s 1ms/step - loss: 0.5704 - accuracy: 0.7118\n",
            "Epoch 122/150\n",
            "58/58 [==============================] - 0s 1ms/step - loss: 0.5690 - accuracy: 0.7205\n",
            "Epoch 123/150\n",
            "58/58 [==============================] - 0s 1ms/step - loss: 0.5609 - accuracy: 0.7257\n",
            "Epoch 124/150\n",
            "58/58 [==============================] - 0s 1ms/step - loss: 0.5538 - accuracy: 0.7448\n",
            "Epoch 125/150\n",
            "58/58 [==============================] - 0s 1ms/step - loss: 0.5335 - accuracy: 0.7500\n",
            "Epoch 126/150\n",
            "58/58 [==============================] - 0s 1ms/step - loss: 0.5856 - accuracy: 0.7344\n",
            "Epoch 127/150\n",
            "58/58 [==============================] - 0s 1ms/step - loss: 0.5279 - accuracy: 0.7465\n",
            "Epoch 128/150\n",
            "58/58 [==============================] - 0s 1ms/step - loss: 0.5966 - accuracy: 0.7014\n",
            "Epoch 129/150\n",
            "58/58 [==============================] - 0s 1ms/step - loss: 0.5759 - accuracy: 0.7240\n",
            "Epoch 130/150\n",
            "58/58 [==============================] - 0s 1ms/step - loss: 0.5155 - accuracy: 0.7622\n",
            "Epoch 131/150\n",
            "58/58 [==============================] - 0s 1ms/step - loss: 0.5295 - accuracy: 0.7431\n",
            "Epoch 132/150\n",
            "58/58 [==============================] - 0s 1ms/step - loss: 0.6096 - accuracy: 0.7031\n",
            "Epoch 133/150\n",
            "58/58 [==============================] - 0s 1ms/step - loss: 0.5544 - accuracy: 0.7361\n",
            "Epoch 134/150\n",
            "58/58 [==============================] - 0s 1ms/step - loss: 0.5459 - accuracy: 0.7344\n",
            "Epoch 135/150\n",
            "58/58 [==============================] - 0s 1ms/step - loss: 0.5574 - accuracy: 0.7326\n",
            "Epoch 136/150\n",
            "58/58 [==============================] - 0s 1ms/step - loss: 0.5732 - accuracy: 0.7396\n",
            "Epoch 137/150\n",
            "58/58 [==============================] - 0s 1ms/step - loss: 0.5301 - accuracy: 0.7587\n",
            "Epoch 138/150\n",
            "58/58 [==============================] - 0s 1ms/step - loss: 0.5689 - accuracy: 0.7378\n",
            "Epoch 139/150\n",
            "58/58 [==============================] - 0s 1ms/step - loss: 0.5522 - accuracy: 0.7257\n",
            "Epoch 140/150\n",
            "58/58 [==============================] - 0s 1ms/step - loss: 0.5136 - accuracy: 0.7500\n",
            "Epoch 141/150\n",
            "58/58 [==============================] - 0s 1ms/step - loss: 0.5305 - accuracy: 0.7431\n",
            "Epoch 142/150\n",
            "58/58 [==============================] - 0s 1ms/step - loss: 0.5441 - accuracy: 0.7361\n",
            "Epoch 143/150\n",
            "58/58 [==============================] - 0s 1ms/step - loss: 0.5489 - accuracy: 0.7448\n",
            "Epoch 144/150\n",
            "58/58 [==============================] - 0s 1ms/step - loss: 0.5239 - accuracy: 0.7413\n",
            "Epoch 145/150\n",
            "58/58 [==============================] - 0s 1ms/step - loss: 0.5580 - accuracy: 0.7500\n",
            "Epoch 146/150\n",
            "58/58 [==============================] - 0s 1ms/step - loss: 0.5504 - accuracy: 0.7500\n",
            "Epoch 147/150\n",
            "58/58 [==============================] - 0s 1ms/step - loss: 0.5620 - accuracy: 0.7222\n",
            "Epoch 148/150\n",
            "58/58 [==============================] - 0s 1ms/step - loss: 0.5583 - accuracy: 0.7378\n",
            "Epoch 149/150\n",
            "58/58 [==============================] - 0s 1ms/step - loss: 0.5169 - accuracy: 0.7517\n",
            "Epoch 150/150\n",
            "58/58 [==============================] - 0s 1ms/step - loss: 0.5874 - accuracy: 0.7049\n"
          ]
        },
        {
          "output_type": "execute_result",
          "data": {
            "text/plain": [
              "<keras.callbacks.History at 0x7f14ee833450>"
            ]
          },
          "metadata": {},
          "execution_count": 9
        }
      ]
    },
    {
      "cell_type": "code",
      "metadata": {
        "colab": {
          "base_uri": "https://localhost:8080/"
        },
        "id": "hUqnzn-_tVH5",
        "outputId": "6404421e-dd8e-4e6d-d92c-57d0ccb68d15"
      },
      "source": [
        "accuracy=mymodel.evaluate(x_train,y_train)"
      ],
      "execution_count": null,
      "outputs": [
        {
          "output_type": "stream",
          "name": "stdout",
          "text": [
            "18/18 [==============================] - 0s 1ms/step - loss: 0.4921 - accuracy: 0.7587\n"
          ]
        }
      ]
    },
    {
      "cell_type": "code",
      "metadata": {
        "id": "7D7VhuE1uJn9"
      },
      "source": [
        "from sklearn.metrics import accuracy_score\n",
        "y_predict = np.argmax(mymodel.predict(x_test), axis=-1)\n",
        "accuracy_score(y_test,y_predict)"
      ],
      "execution_count": null,
      "outputs": []
    }
  ]
}